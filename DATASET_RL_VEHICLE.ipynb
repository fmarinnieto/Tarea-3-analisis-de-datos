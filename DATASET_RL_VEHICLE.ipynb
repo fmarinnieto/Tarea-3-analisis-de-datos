{
 "cells": [
  {
   "cell_type": "code",
   "execution_count": 1,
   "id": "2a43f388-27c6-4878-bcfb-d76083b5b8be",
   "metadata": {},
   "outputs": [
    {
     "name": "stdout",
     "output_type": "stream",
     "text": [
      "1. Realizar un análisis exploratorio de los datos para identificarrelaciones entre variables, valores atípicos, tendencias, etc.\n"
     ]
    }
   ],
   "source": [
    "print(\"1. Realizar un análisis exploratorio de los datos para identificarrelaciones entre variables, valores atípicos, tendencias, etc.\")"
   ]
  },
  {
   "cell_type": "code",
   "execution_count": 34,
   "id": "615965c1-5bc6-4c18-bc10-81c2d2c2cc57",
   "metadata": {},
   "outputs": [],
   "source": [
    "#Cargar las librerias necesrias\n",
    "\n",
    "import pandas as pd # Manejo y análisis de estructuras de datos\n",
    "import numpy as np # Cálculo numérico y el análisis de datos\n",
    "import seaborn as sns # Creación gráficos estadísticos\n",
    "import matplotlib.pyplot as plt # Creación de gráficos en dos dimensiones\n",
    "\n",
    "# librerías de para implementar modelos de ciencia de datos\n",
    "from sklearn import metrics\n",
    "from sklearn.model_selection import train_test_split\n",
    "from sklearn.linear_model import LinearRegression\n",
    "from sklearn.metrics import classification_report, confusion_matrix"
   ]
  },
  {
   "cell_type": "code",
   "execution_count": 18,
   "id": "320ccace-8878-44aa-9825-1c9200281de5",
   "metadata": {},
   "outputs": [],
   "source": [
    "# lectura de datos en Python y lo cargamos en la variable Data\n",
    "\n",
    "Data = pd.read_csv('./Car details v3.csv')"
   ]
  },
  {
   "cell_type": "code",
   "execution_count": 19,
   "id": "05f5bea3-4fd7-4ac6-b994-56a009f7204c",
   "metadata": {},
   "outputs": [
    {
     "data": {
      "text/html": [
       "<div>\n",
       "<style scoped>\n",
       "    .dataframe tbody tr th:only-of-type {\n",
       "        vertical-align: middle;\n",
       "    }\n",
       "\n",
       "    .dataframe tbody tr th {\n",
       "        vertical-align: top;\n",
       "    }\n",
       "\n",
       "    .dataframe thead th {\n",
       "        text-align: right;\n",
       "    }\n",
       "</style>\n",
       "<table border=\"1\" class=\"dataframe\">\n",
       "  <thead>\n",
       "    <tr style=\"text-align: right;\">\n",
       "      <th></th>\n",
       "      <th>nombre</th>\n",
       "      <th>year</th>\n",
       "      <th>selling_price</th>\n",
       "      <th>km_driven</th>\n",
       "      <th>fuel</th>\n",
       "      <th>seller_type</th>\n",
       "      <th>transmission</th>\n",
       "      <th>owner</th>\n",
       "      <th>mileage</th>\n",
       "      <th>engine</th>\n",
       "      <th>max_power</th>\n",
       "      <th>torque</th>\n",
       "      <th>seats</th>\n",
       "    </tr>\n",
       "  </thead>\n",
       "  <tbody>\n",
       "    <tr>\n",
       "      <th>0</th>\n",
       "      <td>Maruti Swift Dzire VDI</td>\n",
       "      <td>2014.0</td>\n",
       "      <td>450000.0</td>\n",
       "      <td>145500.0</td>\n",
       "      <td>Diesel</td>\n",
       "      <td>Individual</td>\n",
       "      <td>Manual</td>\n",
       "      <td>First Owner</td>\n",
       "      <td>23.4 kmpl</td>\n",
       "      <td>1248 CC</td>\n",
       "      <td>74 bhp</td>\n",
       "      <td>190Nm@ 2000rpm</td>\n",
       "      <td>5.0</td>\n",
       "    </tr>\n",
       "    <tr>\n",
       "      <th>1</th>\n",
       "      <td>Skoda Rapid 1.5 TDI Ambition</td>\n",
       "      <td>2014.0</td>\n",
       "      <td>370000.0</td>\n",
       "      <td>120000.0</td>\n",
       "      <td>Diesel</td>\n",
       "      <td>Individual</td>\n",
       "      <td>Manual</td>\n",
       "      <td>Second Owner</td>\n",
       "      <td>21.14 kmpl</td>\n",
       "      <td>1498 CC</td>\n",
       "      <td>103.52 bhp</td>\n",
       "      <td>250Nm@ 1500-2500rpm</td>\n",
       "      <td>5.0</td>\n",
       "    </tr>\n",
       "    <tr>\n",
       "      <th>2</th>\n",
       "      <td>Honda City 2017-2020 EXi,2006,158000,140000,Pe...</td>\n",
       "      <td>NaN</td>\n",
       "      <td>NaN</td>\n",
       "      <td>NaN</td>\n",
       "      <td>NaN</td>\n",
       "      <td>NaN</td>\n",
       "      <td>NaN</td>\n",
       "      <td>NaN</td>\n",
       "      <td>NaN</td>\n",
       "      <td>NaN</td>\n",
       "      <td>NaN</td>\n",
       "      <td>NaN</td>\n",
       "      <td>NaN</td>\n",
       "    </tr>\n",
       "    <tr>\n",
       "      <th>3</th>\n",
       "      <td>Hyundai i20 Sportz Diesel</td>\n",
       "      <td>2010.0</td>\n",
       "      <td>225000.0</td>\n",
       "      <td>127000.0</td>\n",
       "      <td>Diesel</td>\n",
       "      <td>Individual</td>\n",
       "      <td>Manual</td>\n",
       "      <td>First Owner</td>\n",
       "      <td>23.0 kmpl</td>\n",
       "      <td>1396 CC</td>\n",
       "      <td>90 bhp</td>\n",
       "      <td>22.4 kgm at 1750-2750rpm</td>\n",
       "      <td>5.0</td>\n",
       "    </tr>\n",
       "    <tr>\n",
       "      <th>4</th>\n",
       "      <td>Maruti Swift VXI BSIII,2007,130000,120000,Petr...</td>\n",
       "      <td>NaN</td>\n",
       "      <td>NaN</td>\n",
       "      <td>NaN</td>\n",
       "      <td>NaN</td>\n",
       "      <td>NaN</td>\n",
       "      <td>NaN</td>\n",
       "      <td>NaN</td>\n",
       "      <td>NaN</td>\n",
       "      <td>NaN</td>\n",
       "      <td>NaN</td>\n",
       "      <td>NaN</td>\n",
       "      <td>NaN</td>\n",
       "    </tr>\n",
       "    <tr>\n",
       "      <th>...</th>\n",
       "      <td>...</td>\n",
       "      <td>...</td>\n",
       "      <td>...</td>\n",
       "      <td>...</td>\n",
       "      <td>...</td>\n",
       "      <td>...</td>\n",
       "      <td>...</td>\n",
       "      <td>...</td>\n",
       "      <td>...</td>\n",
       "      <td>...</td>\n",
       "      <td>...</td>\n",
       "      <td>...</td>\n",
       "      <td>...</td>\n",
       "    </tr>\n",
       "    <tr>\n",
       "      <th>145</th>\n",
       "      <td>Volvo XC40 D4 R-Design</td>\n",
       "      <td>2018.0</td>\n",
       "      <td>3400000.0</td>\n",
       "      <td>22000.0</td>\n",
       "      <td>Diesel</td>\n",
       "      <td>Dealer</td>\n",
       "      <td>Automatic</td>\n",
       "      <td>First Owner</td>\n",
       "      <td>18.0 kmpl</td>\n",
       "      <td>1969 CC</td>\n",
       "      <td>190 bhp</td>\n",
       "      <td>400Nm</td>\n",
       "      <td>5.0</td>\n",
       "    </tr>\n",
       "    <tr>\n",
       "      <th>146</th>\n",
       "      <td>Audi Q7 35 TDI Quattro Premium</td>\n",
       "      <td>2015.0</td>\n",
       "      <td>2650000.0</td>\n",
       "      <td>53000.0</td>\n",
       "      <td>Diesel</td>\n",
       "      <td>Dealer</td>\n",
       "      <td>Automatic</td>\n",
       "      <td>First Owner</td>\n",
       "      <td>12.07 kmpl</td>\n",
       "      <td>2967 CC</td>\n",
       "      <td>241.4 bhp</td>\n",
       "      <td>550Nm@ 1750-2750rpm</td>\n",
       "      <td>7.0</td>\n",
       "    </tr>\n",
       "    <tr>\n",
       "      <th>147</th>\n",
       "      <td>Maruti Ciaz ZDi</td>\n",
       "      <td>2015.0</td>\n",
       "      <td>535000.0</td>\n",
       "      <td>40000.0</td>\n",
       "      <td>Diesel</td>\n",
       "      <td>Dealer</td>\n",
       "      <td>Manual</td>\n",
       "      <td>First Owner</td>\n",
       "      <td>26.21 kmpl</td>\n",
       "      <td>1248 CC</td>\n",
       "      <td>88.5 bhp</td>\n",
       "      <td>200Nm@ 1750rpm</td>\n",
       "      <td>5.0</td>\n",
       "    </tr>\n",
       "    <tr>\n",
       "      <th>148</th>\n",
       "      <td>Mercedes-Benz S-Class S 350 CDI</td>\n",
       "      <td>2017.0</td>\n",
       "      <td>5850000.0</td>\n",
       "      <td>47000.0</td>\n",
       "      <td>Diesel</td>\n",
       "      <td>Dealer</td>\n",
       "      <td>Automatic</td>\n",
       "      <td>First Owner</td>\n",
       "      <td>13.5 kmpl</td>\n",
       "      <td>2987 CC</td>\n",
       "      <td>282 bhp</td>\n",
       "      <td>490Nm@ 1600rpm</td>\n",
       "      <td>5.0</td>\n",
       "    </tr>\n",
       "    <tr>\n",
       "      <th>149</th>\n",
       "      <td>BMW 5 Series 523i</td>\n",
       "      <td>2010.0</td>\n",
       "      <td>975000.0</td>\n",
       "      <td>72200.0</td>\n",
       "      <td>Petrol</td>\n",
       "      <td>Dealer</td>\n",
       "      <td>Automatic</td>\n",
       "      <td>Second Owner</td>\n",
       "      <td>10.8 kmpl</td>\n",
       "      <td>2497 CC</td>\n",
       "      <td>150 bhp</td>\n",
       "      <td>250 Nm at 2750 rpm</td>\n",
       "      <td>5.0</td>\n",
       "    </tr>\n",
       "  </tbody>\n",
       "</table>\n",
       "<p>150 rows × 13 columns</p>\n",
       "</div>"
      ],
      "text/plain": [
       "                                                nombre    year  selling_price  \\\n",
       "0                               Maruti Swift Dzire VDI  2014.0       450000.0   \n",
       "1                         Skoda Rapid 1.5 TDI Ambition  2014.0       370000.0   \n",
       "2    Honda City 2017-2020 EXi,2006,158000,140000,Pe...     NaN            NaN   \n",
       "3                            Hyundai i20 Sportz Diesel  2010.0       225000.0   \n",
       "4    Maruti Swift VXI BSIII,2007,130000,120000,Petr...     NaN            NaN   \n",
       "..                                                 ...     ...            ...   \n",
       "145                             Volvo XC40 D4 R-Design  2018.0      3400000.0   \n",
       "146                     Audi Q7 35 TDI Quattro Premium  2015.0      2650000.0   \n",
       "147                                    Maruti Ciaz ZDi  2015.0       535000.0   \n",
       "148                    Mercedes-Benz S-Class S 350 CDI  2017.0      5850000.0   \n",
       "149                                  BMW 5 Series 523i  2010.0       975000.0   \n",
       "\n",
       "     km_driven    fuel seller_type transmission         owner     mileage  \\\n",
       "0     145500.0  Diesel  Individual       Manual   First Owner   23.4 kmpl   \n",
       "1     120000.0  Diesel  Individual       Manual  Second Owner  21.14 kmpl   \n",
       "2          NaN     NaN         NaN          NaN           NaN         NaN   \n",
       "3     127000.0  Diesel  Individual       Manual   First Owner   23.0 kmpl   \n",
       "4          NaN     NaN         NaN          NaN           NaN         NaN   \n",
       "..         ...     ...         ...          ...           ...         ...   \n",
       "145    22000.0  Diesel      Dealer    Automatic   First Owner   18.0 kmpl   \n",
       "146    53000.0  Diesel      Dealer    Automatic   First Owner  12.07 kmpl   \n",
       "147    40000.0  Diesel      Dealer       Manual   First Owner  26.21 kmpl   \n",
       "148    47000.0  Diesel      Dealer    Automatic   First Owner   13.5 kmpl   \n",
       "149    72200.0  Petrol      Dealer    Automatic  Second Owner   10.8 kmpl   \n",
       "\n",
       "      engine   max_power                    torque  seats  \n",
       "0    1248 CC      74 bhp            190Nm@ 2000rpm    5.0  \n",
       "1    1498 CC  103.52 bhp       250Nm@ 1500-2500rpm    5.0  \n",
       "2        NaN         NaN                       NaN    NaN  \n",
       "3    1396 CC      90 bhp  22.4 kgm at 1750-2750rpm    5.0  \n",
       "4        NaN         NaN                       NaN    NaN  \n",
       "..       ...         ...                       ...    ...  \n",
       "145  1969 CC     190 bhp                     400Nm    5.0  \n",
       "146  2967 CC   241.4 bhp       550Nm@ 1750-2750rpm    7.0  \n",
       "147  1248 CC    88.5 bhp            200Nm@ 1750rpm    5.0  \n",
       "148  2987 CC     282 bhp            490Nm@ 1600rpm    5.0  \n",
       "149  2497 CC     150 bhp        250 Nm at 2750 rpm    5.0  \n",
       "\n",
       "[150 rows x 13 columns]"
      ]
     },
     "execution_count": 19,
     "metadata": {},
     "output_type": "execute_result"
    }
   ],
   "source": [
    "# Realizamos lectura de los Datos para el análisis exploratorio\n",
    "\n",
    "Data.head(150)\n"
   ]
  },
  {
   "cell_type": "code",
   "execution_count": 5,
   "id": "2e88f715-8d09-4aa4-bb9f-66f0622ed79f",
   "metadata": {},
   "outputs": [
    {
     "data": {
      "text/html": [
       "<div>\n",
       "<style scoped>\n",
       "    .dataframe tbody tr th:only-of-type {\n",
       "        vertical-align: middle;\n",
       "    }\n",
       "\n",
       "    .dataframe tbody tr th {\n",
       "        vertical-align: top;\n",
       "    }\n",
       "\n",
       "    .dataframe thead th {\n",
       "        text-align: right;\n",
       "    }\n",
       "</style>\n",
       "<table border=\"1\" class=\"dataframe\">\n",
       "  <thead>\n",
       "    <tr style=\"text-align: right;\">\n",
       "      <th></th>\n",
       "      <th>year</th>\n",
       "      <th>selling_price</th>\n",
       "      <th>km_driven</th>\n",
       "      <th>seats</th>\n",
       "    </tr>\n",
       "  </thead>\n",
       "  <tbody>\n",
       "    <tr>\n",
       "      <th>count</th>\n",
       "      <td>7787.000000</td>\n",
       "      <td>7.787000e+03</td>\n",
       "      <td>7.787000e+03</td>\n",
       "      <td>7566.000000</td>\n",
       "    </tr>\n",
       "    <tr>\n",
       "      <th>mean</th>\n",
       "      <td>2014.054193</td>\n",
       "      <td>6.566975e+05</td>\n",
       "      <td>6.840663e+04</td>\n",
       "      <td>5.422284</td>\n",
       "    </tr>\n",
       "    <tr>\n",
       "      <th>std</th>\n",
       "      <td>3.911379</td>\n",
       "      <td>8.174188e+05</td>\n",
       "      <td>5.663441e+04</td>\n",
       "      <td>0.955162</td>\n",
       "    </tr>\n",
       "    <tr>\n",
       "      <th>min</th>\n",
       "      <td>1983.000000</td>\n",
       "      <td>2.999900e+04</td>\n",
       "      <td>1.000000e+00</td>\n",
       "      <td>2.000000</td>\n",
       "    </tr>\n",
       "    <tr>\n",
       "      <th>25%</th>\n",
       "      <td>2012.000000</td>\n",
       "      <td>2.750000e+05</td>\n",
       "      <td>3.300150e+04</td>\n",
       "      <td>5.000000</td>\n",
       "    </tr>\n",
       "    <tr>\n",
       "      <th>50%</th>\n",
       "      <td>2015.000000</td>\n",
       "      <td>4.599990e+05</td>\n",
       "      <td>6.000000e+04</td>\n",
       "      <td>5.000000</td>\n",
       "    </tr>\n",
       "    <tr>\n",
       "      <th>75%</th>\n",
       "      <td>2017.000000</td>\n",
       "      <td>6.965000e+05</td>\n",
       "      <td>9.000000e+04</td>\n",
       "      <td>5.000000</td>\n",
       "    </tr>\n",
       "    <tr>\n",
       "      <th>max</th>\n",
       "      <td>2020.000000</td>\n",
       "      <td>1.000000e+07</td>\n",
       "      <td>2.360457e+06</td>\n",
       "      <td>14.000000</td>\n",
       "    </tr>\n",
       "  </tbody>\n",
       "</table>\n",
       "</div>"
      ],
      "text/plain": [
       "              year  selling_price     km_driven        seats\n",
       "count  7787.000000   7.787000e+03  7.787000e+03  7566.000000\n",
       "mean   2014.054193   6.566975e+05  6.840663e+04     5.422284\n",
       "std       3.911379   8.174188e+05  5.663441e+04     0.955162\n",
       "min    1983.000000   2.999900e+04  1.000000e+00     2.000000\n",
       "25%    2012.000000   2.750000e+05  3.300150e+04     5.000000\n",
       "50%    2015.000000   4.599990e+05  6.000000e+04     5.000000\n",
       "75%    2017.000000   6.965000e+05  9.000000e+04     5.000000\n",
       "max    2020.000000   1.000000e+07  2.360457e+06    14.000000"
      ]
     },
     "execution_count": 5,
     "metadata": {},
     "output_type": "execute_result"
    }
   ],
   "source": [
    "# Descripción de los datos\n",
    "Data.describe()"
   ]
  },
  {
   "cell_type": "code",
   "execution_count": 136,
   "id": "3501b254-07ce-4eb5-9111-7124f181f27a",
   "metadata": {},
   "outputs": [
    {
     "data": {
      "text/plain": [
       "Text(0.5, 1.0, 'Identificación de Datos Faltantes y Atípicos')"
      ]
     },
     "execution_count": 136,
     "metadata": {},
     "output_type": "execute_result"
    },
    {
     "data": {
      "image/png": "[encoded data removed]",
      "text/plain": [
       "<Figure size 600x300 with 1 Axes>"
      ]
     },
     "metadata": {},
     "output_type": "display_data"
    }
   ],
   "source": [
    "#Identificación de Datos Faltantes y Atípicos\n",
    "\n",
    "plt.figure(figsize=(6, 3))\n",
    "sns.boxplot(x=Data['selling_price'])\n",
    "plt.title('Identificación de Datos Faltantes y Atípicos', fontsize=10 )"
   ]
  },
  {
   "cell_type": "code",
   "execution_count": 137,
   "id": "cdc80981-dc09-413e-9293-e8a804659547",
   "metadata": {},
   "outputs": [
    {
     "data": {
      "text/plain": [
       "Text(0.5, 1.0, 'Identificación de Datos Faltantes y Atípicos')"
      ]
     },
     "execution_count": 137,
     "metadata": {},
     "output_type": "execute_result"
    },
    {
     "data": {
      "image/png": "[encoded data removed]",
      "text/plain": [
       "<Figure size 600x300 with 1 Axes>"
      ]
     },
     "metadata": {},
     "output_type": "display_data"
    }
   ],
   "source": [
    "#Identificación de Datos Faltantes y Atípicos\n",
    "\n",
    "plt.figure(figsize=(6, 3))\n",
    "sns.boxplot(x=Data['km_driven'])\n",
    "plt.title('Identificación de Datos Faltantes y Atípicos', fontsize=10 )"
   ]
  },
  {
   "cell_type": "code",
   "execution_count": 138,
   "id": "b57316dd-cadb-471d-a7e7-e89fff5e9173",
   "metadata": {},
   "outputs": [
    {
     "data": {
      "text/plain": [
       "Text(0.5, 1.0, 'Identificación de Datos Faltantes y Atípicos')"
      ]
     },
     "execution_count": 138,
     "metadata": {},
     "output_type": "execute_result"
    },
    {
     "data": {
      "image/png": "[encoded data removed]",
      "text/plain": [
       "<Figure size 600x300 with 1 Axes>"
      ]
     },
     "metadata": {},
     "output_type": "display_data"
    }
   ],
   "source": [
    "#Identificación de Datos Faltantes y Atípicos\n",
    "\n",
    "plt.figure(figsize=(6, 3))\n",
    "sns.boxplot(x=Data['seats'])\n",
    "plt.title('Identificación de Datos Faltantes y Atípicos', fontsize=10 )"
   ]
  },
  {
   "cell_type": "code",
   "execution_count": 139,
   "id": "0844de2f-6d18-4028-abd1-31cb376b8c24",
   "metadata": {},
   "outputs": [
    {
     "name": "stdout",
     "output_type": "stream",
     "text": [
      "2. Preprocesar los datos limpiándolos, tratando valores faltantes y transformándolos según sea necesario.\n"
     ]
    }
   ],
   "source": [
    "print(\"2. Preprocesar los datos limpiándolos, tratando valores faltantes y transformándolos según sea necesario.\")"
   ]
  },
  {
   "cell_type": "code",
   "execution_count": 140,
   "id": "fe453791-4558-4deb-b33c-5795301944e8",
   "metadata": {},
   "outputs": [
    {
     "name": "stdout",
     "output_type": "stream",
     "text": [
      "Cantidad de Registros con cero en el campo year:  0\n",
      "Cantidad de Registros con cero en el campo selling_price:  0\n",
      "Cantidad de Registros con cero en el campo km_driven:  0\n",
      "Cantidad de Registros con cero en el campo seats:  0\n"
     ]
    }
   ],
   "source": [
    "#Revisión de datos faltantes\n",
    "\n",
    "print(\"Cantidad de Registros con cero en el campo year: \",Data['year'].isin([0]).sum())\n",
    "print(\"Cantidad de Registros con cero en el campo selling_price: \",Data['selling_price'].isin([0]).sum())\n",
    "print(\"Cantidad de Registros con cero en el campo km_driven: \",Data['km_driven'].isin([0]).sum())\n",
    "print(\"Cantidad de Registros con cero en el campo seats: \",Data['seats'].isin([0]).sum())"
   ]
  },
  {
   "cell_type": "code",
   "execution_count": 141,
   "id": "a20bb237-05ff-471b-b4cd-d0fff0ec1623",
   "metadata": {},
   "outputs": [],
   "source": [
    "# Reemplazar todos los ceros con el valor medio (promedio) de la columna.\n",
    "\n",
    "Data['year']=Data['year'].replace(0,Data['year'].mean())\n",
    "Data['selling_price']=Data['selling_price'].replace(0,Data['selling_price'].mean())\n",
    "Data['km_driven']=Data['km_driven'].replace(0,Data['km_driven'].mean())\n",
    "Data['seats']=Data['seats'].replace(0,Data['seats'].mean())\n"
   ]
  },
  {
   "cell_type": "code",
   "execution_count": 142,
   "id": "89850704-132c-4429-b583-8b93113b9270",
   "metadata": {},
   "outputs": [
    {
     "name": "stdout",
     "output_type": "stream",
     "text": [
      "Cantidad de Registros con cero en el campo year:  0\n",
      "Cantidad de Registros con cero en el campo selling_price:  0\n",
      "Cantidad de Registros con cero en el campo km_driven:  0\n",
      "Cantidad de Registros con cero en el campo seats:  0\n"
     ]
    }
   ],
   "source": [
    "#Revisión nuevamente de datos faltantes\n",
    "\n",
    "print(\"Cantidad de Registros con cero en el campo year: \",Data['year'].isin([0]).sum())\n",
    "print(\"Cantidad de Registros con cero en el campo selling_price: \",Data['selling_price'].isin([0]).sum())\n",
    "print(\"Cantidad de Registros con cero en el campo km_driven: \",Data['km_driven'].isin([0]).sum())\n",
    "print(\"Cantidad de Registros con cero en el campo seats: \",Data['seats'].isin([0]).sum())"
   ]
  },
  {
   "cell_type": "code",
   "execution_count": 143,
   "id": "c54517d6-c854-444c-a7a6-66dd6630db0a",
   "metadata": {},
   "outputs": [
    {
     "data": {
      "text/plain": [
       "Text(0.5, 1.0, 'Identificación de Datos Atípicos')"
      ]
     },
     "execution_count": 143,
     "metadata": {},
     "output_type": "execute_result"
    },
    {
     "data": {
      "image/png": "[encoded data removed]",
      "text/plain": [
       "<Figure size 600x300 with 1 Axes>"
      ]
     },
     "metadata": {},
     "output_type": "display_data"
    }
   ],
   "source": [
    "#Identificación de Datos Atípicos\n",
    "\n",
    "plt.figure(figsize=(6, 3))\n",
    "sns.boxplot(x=Data['selling_price'])\n",
    "plt.title('Identificación de Datos Atípicos', fontsize=10 )"
   ]
  },
  {
   "cell_type": "code",
   "execution_count": 147,
   "id": "36451d66-346b-49f7-9d1f-abe3a0fd7a2c",
   "metadata": {},
   "outputs": [
    {
     "name": "stdout",
     "output_type": "stream",
     "text": [
      "El total de datos atípicos es 116\n"
     ]
    }
   ],
   "source": [
    "#Conteo de Datos Atípicos\n",
    "\n",
    "nivel_minimo=1000000\n",
    "nivel_maximo=5000000\n",
    "Total_Atipicos=((Data['selling_price']<nivel_minimo)|(Data['selling_price']>nivel_maximo)).sum()\n",
    "print(\"El total de datos atípicos es {}\".format(Total_Atipicos))\n"
   ]
  },
  {
   "cell_type": "code",
   "execution_count": 148,
   "id": "afcb45a2-9d00-44b4-923b-ac92972ce5fc",
   "metadata": {},
   "outputs": [],
   "source": [
    "# Filtra Datos Atípicos\n",
    "\n",
    "Data=Data[(Data['selling_price']<nivel_maximo)&(Data['selling_price']>nivel_minimo)]\n"
   ]
  },
  {
   "cell_type": "code",
   "execution_count": 149,
   "id": "6948ce73-247a-482e-9ec4-3237f79a16ff",
   "metadata": {},
   "outputs": [
    {
     "name": "stdout",
     "output_type": "stream",
     "text": [
      "El total de datos atípicos es 0\n"
     ]
    }
   ],
   "source": [
    "# Validar si se removieron los datos atípicos\n",
    "\n",
    "Total_Atipicos=((Data['selling_price']<nivel_minimo)|(Data['selling_price']>nivel_maximo)).sum()\n",
    "print(\"El total de datos atípicos es {}\".format(Total_Atipicos))\n"
   ]
  },
  {
   "cell_type": "code",
   "execution_count": 150,
   "id": "e4f30c92-2cb7-42d9-a418-3a1213042c32",
   "metadata": {},
   "outputs": [
    {
     "name": "stdout",
     "output_type": "stream",
     "text": [
      "<class 'pandas.core.frame.DataFrame'>\n",
      "Index: 240 entries, 41 to 7931\n",
      "Data columns (total 13 columns):\n",
      " #   Column         Non-Null Count  Dtype  \n",
      "---  ------         --------------  -----  \n",
      " 0   nombre         240 non-null    object \n",
      " 1   year           240 non-null    float64\n",
      " 2   selling_price  240 non-null    float64\n",
      " 3   km_driven      240 non-null    float64\n",
      " 4   fuel           240 non-null    object \n",
      " 5   seller_type    240 non-null    object \n",
      " 6   transmission   240 non-null    object \n",
      " 7   owner          240 non-null    object \n",
      " 8   mileage        238 non-null    object \n",
      " 9   engine         238 non-null    object \n",
      " 10  max_power      238 non-null    object \n",
      " 11  torque         238 non-null    object \n",
      " 12  seats          238 non-null    float64\n",
      "dtypes: float64(4), object(9)\n",
      "memory usage: 26.2+ KB\n"
     ]
    }
   ],
   "source": [
    "#Revisión del tipo de datos y datos faltantes\n",
    "\n",
    "Data.info()"
   ]
  },
  {
   "cell_type": "code",
   "execution_count": 151,
   "id": "47969735-a9d6-4c13-bce6-990ad0fe7d83",
   "metadata": {},
   "outputs": [
    {
     "name": "stdout",
     "output_type": "stream",
     "text": [
      " 3. Seleccionar las características más relevantes para entrenar el modelo utilizando selección de características\n"
     ]
    }
   ],
   "source": [
    "print(\" 3. Seleccionar las características más relevantes para entrenar el modelo utilizando selección de características\")"
   ]
  },
  {
   "cell_type": "code",
   "execution_count": 152,
   "id": "9797caea-50b1-41d2-ac8e-9c3bfad0c10d",
   "metadata": {},
   "outputs": [
    {
     "data": {
      "text/plain": [
       "selling_price\n",
       "3200000.0    42\n",
       "3800000.0    30\n",
       "2475000.0    29\n",
       "2711000.0    18\n",
       "2625000.0    12\n",
       "2700000.0     8\n",
       "2100000.0     6\n",
       "3975000.0     6\n",
       "4100000.0     6\n",
       "2900000.0     6\n",
       "2600000.0     5\n",
       "2150000.0     5\n",
       "3000000.0     5\n",
       "2950000.0     4\n",
       "2500000.0     4\n",
       "4500000.0     4\n",
       "3250000.0     3\n",
       "2450000.0     3\n",
       "2125000.0     2\n",
       "4000000.0     2\n",
       "3500000.0     2\n",
       "2800000.0     2\n",
       "2200000.0     2\n",
       "3350000.0     2\n",
       "3100000.0     2\n",
       "2825000.0     2\n",
       "3750000.0     2\n",
       "3790000.0     2\n",
       "4600000.0     2\n",
       "2550000.0     2\n",
       "3400000.0     2\n",
       "2280000.0     1\n",
       "2650000.0     1\n",
       "2051000.0     1\n",
       "2175000.0     1\n",
       "3300000.0     1\n",
       "2300000.0     1\n",
       "2400000.0     1\n",
       "3251000.0     1\n",
       "2750000.0     1\n",
       "2064000.0     1\n",
       "2940000.0     1\n",
       "2375000.0     1\n",
       "4090000.0     1\n",
       "3900000.0     1\n",
       "2850000.0     1\n",
       "3600000.0     1\n",
       "2199000.0     1\n",
       "2575000.0     1\n",
       "Name: count, dtype: int64"
      ]
     },
     "execution_count": 152,
     "metadata": {},
     "output_type": "execute_result"
    }
   ],
   "source": [
    "# Total precio de venta vehiculo\n",
    "\n",
    "Data['selling_price'].value_counts()\n"
   ]
  },
  {
   "cell_type": "code",
   "execution_count": 153,
   "id": "03f13b30-a924-4bf5-b9c9-1bf84a80bb36",
   "metadata": {},
   "outputs": [
    {
     "data": {
      "text/html": [
       "<div>\n",
       "<style scoped>\n",
       "    .dataframe tbody tr th:only-of-type {\n",
       "        vertical-align: middle;\n",
       "    }\n",
       "\n",
       "    .dataframe tbody tr th {\n",
       "        vertical-align: top;\n",
       "    }\n",
       "\n",
       "    .dataframe thead th {\n",
       "        text-align: right;\n",
       "    }\n",
       "</style>\n",
       "<table border=\"1\" class=\"dataframe\">\n",
       "  <thead>\n",
       "    <tr style=\"text-align: right;\">\n",
       "      <th></th>\n",
       "      <th>selling_price</th>\n",
       "    </tr>\n",
       "  </thead>\n",
       "  <tbody>\n",
       "    <tr>\n",
       "      <th>41</th>\n",
       "      <td>2100000.0</td>\n",
       "    </tr>\n",
       "    <tr>\n",
       "      <th>82</th>\n",
       "      <td>2500000.0</td>\n",
       "    </tr>\n",
       "    <tr>\n",
       "      <th>131</th>\n",
       "      <td>3975000.0</td>\n",
       "    </tr>\n",
       "    <tr>\n",
       "      <th>133</th>\n",
       "      <td>3200000.0</td>\n",
       "    </tr>\n",
       "    <tr>\n",
       "      <th>134</th>\n",
       "      <td>4100000.0</td>\n",
       "    </tr>\n",
       "    <tr>\n",
       "      <th>135</th>\n",
       "      <td>4500000.0</td>\n",
       "    </tr>\n",
       "    <tr>\n",
       "      <th>137</th>\n",
       "      <td>3790000.0</td>\n",
       "    </tr>\n",
       "    <tr>\n",
       "      <th>138</th>\n",
       "      <td>2150000.0</td>\n",
       "    </tr>\n",
       "    <tr>\n",
       "      <th>141</th>\n",
       "      <td>2700000.0</td>\n",
       "    </tr>\n",
       "    <tr>\n",
       "      <th>145</th>\n",
       "      <td>3400000.0</td>\n",
       "    </tr>\n",
       "    <tr>\n",
       "      <th>146</th>\n",
       "      <td>2650000.0</td>\n",
       "    </tr>\n",
       "    <tr>\n",
       "      <th>151</th>\n",
       "      <td>2625000.0</td>\n",
       "    </tr>\n",
       "    <tr>\n",
       "      <th>156</th>\n",
       "      <td>2550000.0</td>\n",
       "    </tr>\n",
       "    <tr>\n",
       "      <th>158</th>\n",
       "      <td>2700000.0</td>\n",
       "    </tr>\n",
       "    <tr>\n",
       "      <th>165</th>\n",
       "      <td>2150000.0</td>\n",
       "    </tr>\n",
       "  </tbody>\n",
       "</table>\n",
       "</div>"
      ],
      "text/plain": [
       "     selling_price\n",
       "41       2100000.0\n",
       "82       2500000.0\n",
       "131      3975000.0\n",
       "133      3200000.0\n",
       "134      4100000.0\n",
       "135      4500000.0\n",
       "137      3790000.0\n",
       "138      2150000.0\n",
       "141      2700000.0\n",
       "145      3400000.0\n",
       "146      2650000.0\n",
       "151      2625000.0\n",
       "156      2550000.0\n",
       "158      2700000.0\n",
       "165      2150000.0"
      ]
     },
     "execution_count": 153,
     "metadata": {},
     "output_type": "execute_result"
    }
   ],
   "source": [
    "Data[['selling_price']].head(15)"
   ]
  },
  {
   "cell_type": "code",
   "execution_count": 154,
   "id": "ff6f7e19-a159-45e1-b730-80e811663db1",
   "metadata": {},
   "outputs": [
    {
     "name": "stdout",
     "output_type": "stream",
     "text": [
      "4. Dividir el dataset en Train y Test para evaluar correctamente el modelo.\n"
     ]
    }
   ],
   "source": [
    "print(\"4. Dividir el dataset en Train y Test para evaluar correctamente el modelo.\")"
   ]
  },
  {
   "cell_type": "code",
   "execution_count": 22,
   "id": "7b5b25b0-02e2-4b18-9303-510e05c5c69d",
   "metadata": {},
   "outputs": [],
   "source": [
    "# Porcentaje de datos para entrenamiento (train) = 75% , y para prueba (test) = 25%\n",
    "\n",
    "\n",
    "X = Data.drop('selling_price',axis=1)\n",
    "Y = Data['selling_price']\n",
    "X_train, X_test, Y_train, Y_test = train_test_split(X, Y, test_size=0.25, random_state= 0)"
   ]
  },
  {
   "cell_type": "code",
   "execution_count": 23,
   "id": "597c5218-3527-40fa-9fc2-a4323d59fa35",
   "metadata": {},
   "outputs": [
    {
     "name": "stdout",
     "output_type": "stream",
     "text": [
      "      km_driven  seats    year\n",
      "4313    40000.0    5.0  2012.0\n",
      "5178        NaN    NaN     NaN\n",
      "758     80000.0    5.0  2013.0\n",
      "7117   100000.0    9.0  2016.0\n",
      "2606    77000.0    5.0  2013.0\n",
      "...         ...    ...     ...\n",
      "4931    70000.0    5.0  2012.0\n",
      "3264   100000.0    5.0  2012.0\n",
      "1653    90000.0    5.0  2009.0\n",
      "2607    90000.0    5.0  2012.0\n",
      "2732   110000.0    5.0  2012.0\n",
      "\n",
      "[6096 rows x 3 columns]\n"
     ]
    }
   ],
   "source": [
    "print (X_train)"
   ]
  },
  {
   "cell_type": "code",
   "execution_count": 24,
   "id": "dc404833-1382-498e-87e4-97e681618c3f",
   "metadata": {},
   "outputs": [
    {
     "name": "stdout",
     "output_type": "stream",
     "text": [
      "4313    267000.0\n",
      "5178         NaN\n",
      "758     200000.0\n",
      "7117    900000.0\n",
      "2606    375000.0\n",
      "          ...   \n",
      "4931    300000.0\n",
      "3264    220000.0\n",
      "1653    170000.0\n",
      "2607    375000.0\n",
      "2732    225000.0\n",
      "Name: selling_price, Length: 6096, dtype: float64\n"
     ]
    }
   ],
   "source": [
    "print (Y_train)"
   ]
  },
  {
   "cell_type": "code",
   "execution_count": 25,
   "id": "fbd07ae1-5279-4525-85f4-e6079504f0b1",
   "metadata": {},
   "outputs": [
    {
     "name": "stdout",
     "output_type": "stream",
     "text": [
      " 5. Entrenar el modelo configurando los diferentes hiperparámetros\n"
     ]
    }
   ],
   "source": [
    "print (\" 5. Entrenar el modelo configurando los diferentes hiperparámetros\")"
   ]
  },
  {
   "cell_type": "code",
   "execution_count": 45,
   "id": "fbf6a5e0-3f39-4ab5-8609-168569ecf2e2",
   "metadata": {},
   "outputs": [],
   "source": [
    "from sklearn.linear_model import LinearRegression\n",
    "from sklearn.impute import SimpleImputer\n",
    "import pandas as pd\n",
    "from sklearn.model_selection import train_test_split\n",
    "\n",
    "# Supongamos que tienes un DataFrame con tus datos\n",
    "# X_train, X_test, Y_train, Y_test = train_test_split(data.drop('target', axis=1), data['target'], test_size=0.2)\n",
    "\n",
    "# Crear un objeto SimpleImputer para reemplazar NaNs con la media\n",
    "imputer = SimpleImputer(strategy='mean')\n",
    "X_train_imputed = imputer.fit_transform(X_train)\n",
    "X_test_imputed = imputer.transform(X_test)\n",
    "\n",
    "# Construir el modelo de regresión lineal\n",
    "modelo_regresion = LinearRegression()\n",
    "modelo_regresion.fit(X_train_imputed, Y_train)\n",
    "\n",
    "# Crear el modelo de predicción\n",
    "prediccion = modelo_regresion.predict(X_test_imputed)"
   ]
  },
  {
   "cell_type": "code",
   "execution_count": 46,
   "id": "6ee53b8e-f307-456f-9118-e7d795defa41",
   "metadata": {},
   "outputs": [
    {
     "name": "stdout",
     "output_type": "stream",
     "text": [
      "3558     345000.0\n",
      "233      900000.0\n",
      "7952     475000.0\n",
      "572      120000.0\n",
      "6960    5150000.0\n",
      "          ...    \n",
      "2761      70000.0\n",
      "1487     160000.0\n",
      "4284     350000.0\n",
      "5698     380000.0\n",
      "4643     260000.0\n",
      "Name: selling_price, Length: 2032, dtype: float64\n"
     ]
    }
   ],
   "source": [
    "print (Y_test)"
   ]
  },
  {
   "cell_type": "code",
   "execution_count": 50,
   "id": "ee187d77-fa04-479f-89c9-47d7e4545956",
   "metadata": {},
   "outputs": [
    {
     "name": "stdout",
     "output_type": "stream",
     "text": [
      "[ 568721.36604258  640255.90344828 1104303.61857811 ...  447863.86705291\n",
      "  447863.86705291  652591.01305127]\n"
     ]
    }
   ],
   "source": [
    "print (prediccion)"
   ]
  },
  {
   "cell_type": "code",
   "execution_count": 51,
   "id": "2229e732-6420-4136-85f8-f18d56e6f06b",
   "metadata": {},
   "outputs": [
    {
     "name": "stdout",
     "output_type": "stream",
     "text": [
      " 6. Evaluar el desempeño del modelo en el conjunto de Test con métricas como precisión, recall, F1-score, etc.\n"
     ]
    }
   ],
   "source": [
    "print(\" 6. Evaluar el desempeño del modelo en el conjunto de Test con métricas como precisión, recall, F1-score, etc.\")"
   ]
  },
  {
   "cell_type": "code",
   "execution_count": 61,
   "id": "30ec09b4-0511-47ea-b37d-454a3f54da91",
   "metadata": {},
   "outputs": [
    {
     "name": "stdout",
     "output_type": "stream",
     "text": [
      "Error cuadrático medio: 577249771173.8712\n"
     ]
    }
   ],
   "source": [
    "from sklearn.metrics import mean_squared_error\n",
    "\n",
    "# Calcular el error cuadrático medio\n",
    "mse = mean_squared_error(Y_test_final, prediccion_final)\n",
    "print(\"Error cuadrático medio:\", mse)"
   ]
  },
  {
   "cell_type": "code",
   "execution_count": 68,
   "id": "865a4272-c436-4500-8584-5636b31e1412",
   "metadata": {},
   "outputs": [
    {
     "name": "stdout",
     "output_type": "stream",
     "text": [
      " 7. Realizar las diferentes gráficas que permitan visualizar los resultados del modelo\n"
     ]
    }
   ],
   "source": [
    "print(\" 7. Realizar las diferentes gráficas que permitan visualizar los resultados del modelo\")"
   ]
  },
  {
   "cell_type": "code",
   "execution_count": 69,
   "id": "073ff04c-0482-4796-a51f-fc2add801547",
   "metadata": {},
   "outputs": [
    {
     "data": {
      "image/png": "[encoded data removed]",
      "text/plain": [
       "<Figure size 1000x600 with 1 Axes>"
      ]
     },
     "metadata": {},
     "output_type": "display_data"
    }
   ],
   "source": [
    "import matplotlib.pyplot as plt\n",
    "\n",
    "plt.figure(figsize=(10, 6))\n",
    "plt.scatter(Y_test, prediccion)\n",
    "plt.plot([Y_test.min(), Y_test.max()], [Y_test.min(), Y_test.max()], 'k--', lw=2)\n",
    "plt.xlabel('Valores Reales')\n",
    "plt.ylabel('Valores Predichos')\n",
    "plt.title('Valores Reales vs. Valores Predichos')\n",
    "plt.show()"
   ]
  },
  {
   "cell_type": "code",
   "execution_count": null,
   "id": "cbbb72ee-f113-4aca-834d-b55bdf4df1ee",
   "metadata": {},
   "outputs": [],
   "source": []
  }
 ],
 "metadata": {
  "kernelspec": {
   "display_name": "Python 3 (ipykernel)",
   "language": "python",
   "name": "python3"
  },
  "language_info": {
   "codemirror_mode": {
    "name": "ipython",
    "version": 3
   },
   "file_extension": ".py",
   "mimetype": "text/x-python",
   "name": "python",
   "nbconvert_exporter": "python",
   "pygments_lexer": "ipython3",
   "version": "3.11.7"
  }
 },
 "nbformat": 4,
 "nbformat_minor": 5
}
