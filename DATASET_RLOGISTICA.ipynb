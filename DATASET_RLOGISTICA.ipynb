{
 "cells": [
  {
   "cell_type": "code",
   "execution_count": 3,
   "id": "4bc05473-7ed1-4070-8d30-0546427e7d16",
   "metadata": {},
   "outputs": [
    {
     "name": "stdout",
     "output_type": "stream",
     "text": [
      "1. Realizar un análisis exploratorio de los datos para identificarrelaciones entre variables, valores atípicos, tendencias, etc.\n"
     ]
    }
   ],
   "source": [
    "print(\"1. Realizar un análisis exploratorio de los datos para identificarrelaciones entre variables, valores atípicos, tendencias, etc.\")"
   ]
  },
  {
   "cell_type": "code",
   "execution_count": 5,
   "id": "58f913fd-1bb8-4b9f-a07a-9604b4540adc",
   "metadata": {},
   "outputs": [],
   "source": [
    "#librerias\n",
    "import pandas as pd # Manejo y análisis de estructuras de datos\n",
    "import numpy as np # Cálculo numérico y el análisis de datos\n",
    "import seaborn as sns # Creación gráficos estadísticos\n",
    "import matplotlib.pyplot as plt # Creación de gráficos en dos dimensiones\n",
    "\n",
    "# librerías de para implementar modelos de ciencia de datos\n",
    "from sklearn import metrics\n",
    "from sklearn.model_selection import train_test_split\n",
    "from sklearn.linear_model import LogisticRegression\n",
    "from sklearn.metrics import classification_report, confusion_matrix"
   ]
  },
  {
   "cell_type": "code",
   "execution_count": 6,
   "id": "43befcdf-5bf3-44d9-84b4-b13dcda10df7",
   "metadata": {},
   "outputs": [],
   "source": [
    "# lectura de datos cargamos en la variable Data\n",
    "\n",
    "Data = pd.read_csv('./emfermedades.csv')"
   ]
  },
  {
   "cell_type": "code",
   "execution_count": 17,
   "id": "78d9c1d1-32e4-44a6-bc2a-b9f187b79253",
   "metadata": {},
   "outputs": [
    {
     "data": {
      "text/html": [
       "<div>\n",
       "<style scoped>\n",
       "    .dataframe tbody tr th:only-of-type {\n",
       "        vertical-align: middle;\n",
       "    }\n",
       "\n",
       "    .dataframe tbody tr th {\n",
       "        vertical-align: top;\n",
       "    }\n",
       "\n",
       "    .dataframe thead th {\n",
       "        text-align: right;\n",
       "    }\n",
       "</style>\n",
       "<table border=\"1\" class=\"dataframe\">\n",
       "  <thead>\n",
       "    <tr style=\"text-align: right;\">\n",
       "      <th></th>\n",
       "      <th>age</th>\n",
       "      <th>sex</th>\n",
       "      <th>cp</th>\n",
       "      <th>trestbps</th>\n",
       "      <th>chol</th>\n",
       "      <th>fbs</th>\n",
       "      <th>restecg</th>\n",
       "      <th>thalach</th>\n",
       "      <th>exang</th>\n",
       "      <th>oldpeak</th>\n",
       "      <th>slope</th>\n",
       "      <th>ca</th>\n",
       "      <th>thal</th>\n",
       "      <th>condition</th>\n",
       "    </tr>\n",
       "  </thead>\n",
       "  <tbody>\n",
       "    <tr>\n",
       "      <th>0</th>\n",
       "      <td>69</td>\n",
       "      <td>1</td>\n",
       "      <td>0</td>\n",
       "      <td>160</td>\n",
       "      <td>234</td>\n",
       "      <td>1</td>\n",
       "      <td>2</td>\n",
       "      <td>131</td>\n",
       "      <td>0</td>\n",
       "      <td>0.1</td>\n",
       "      <td>1</td>\n",
       "      <td>1</td>\n",
       "      <td>0</td>\n",
       "      <td>0</td>\n",
       "    </tr>\n",
       "    <tr>\n",
       "      <th>1</th>\n",
       "      <td>69</td>\n",
       "      <td>0</td>\n",
       "      <td>0</td>\n",
       "      <td>140</td>\n",
       "      <td>239</td>\n",
       "      <td>0</td>\n",
       "      <td>0</td>\n",
       "      <td>151</td>\n",
       "      <td>0</td>\n",
       "      <td>1.8</td>\n",
       "      <td>0</td>\n",
       "      <td>2</td>\n",
       "      <td>0</td>\n",
       "      <td>0</td>\n",
       "    </tr>\n",
       "    <tr>\n",
       "      <th>2</th>\n",
       "      <td>66</td>\n",
       "      <td>0</td>\n",
       "      <td>0</td>\n",
       "      <td>150</td>\n",
       "      <td>226</td>\n",
       "      <td>0</td>\n",
       "      <td>0</td>\n",
       "      <td>114</td>\n",
       "      <td>0</td>\n",
       "      <td>2.6</td>\n",
       "      <td>2</td>\n",
       "      <td>0</td>\n",
       "      <td>0</td>\n",
       "      <td>0</td>\n",
       "    </tr>\n",
       "    <tr>\n",
       "      <th>3</th>\n",
       "      <td>65</td>\n",
       "      <td>1</td>\n",
       "      <td>0</td>\n",
       "      <td>138</td>\n",
       "      <td>282</td>\n",
       "      <td>1</td>\n",
       "      <td>2</td>\n",
       "      <td>174</td>\n",
       "      <td>0</td>\n",
       "      <td>1.4</td>\n",
       "      <td>1</td>\n",
       "      <td>1</td>\n",
       "      <td>0</td>\n",
       "      <td>1</td>\n",
       "    </tr>\n",
       "    <tr>\n",
       "      <th>4</th>\n",
       "      <td>64</td>\n",
       "      <td>1</td>\n",
       "      <td>0</td>\n",
       "      <td>110</td>\n",
       "      <td>211</td>\n",
       "      <td>0</td>\n",
       "      <td>2</td>\n",
       "      <td>144</td>\n",
       "      <td>1</td>\n",
       "      <td>1.8</td>\n",
       "      <td>1</td>\n",
       "      <td>0</td>\n",
       "      <td>0</td>\n",
       "      <td>0</td>\n",
       "    </tr>\n",
       "    <tr>\n",
       "      <th>...</th>\n",
       "      <td>...</td>\n",
       "      <td>...</td>\n",
       "      <td>...</td>\n",
       "      <td>...</td>\n",
       "      <td>...</td>\n",
       "      <td>...</td>\n",
       "      <td>...</td>\n",
       "      <td>...</td>\n",
       "      <td>...</td>\n",
       "      <td>...</td>\n",
       "      <td>...</td>\n",
       "      <td>...</td>\n",
       "      <td>...</td>\n",
       "      <td>...</td>\n",
       "    </tr>\n",
       "    <tr>\n",
       "      <th>110</th>\n",
       "      <td>54</td>\n",
       "      <td>0</td>\n",
       "      <td>2</td>\n",
       "      <td>135</td>\n",
       "      <td>304</td>\n",
       "      <td>1</td>\n",
       "      <td>0</td>\n",
       "      <td>170</td>\n",
       "      <td>0</td>\n",
       "      <td>0.0</td>\n",
       "      <td>0</td>\n",
       "      <td>0</td>\n",
       "      <td>0</td>\n",
       "      <td>0</td>\n",
       "    </tr>\n",
       "    <tr>\n",
       "      <th>111</th>\n",
       "      <td>54</td>\n",
       "      <td>1</td>\n",
       "      <td>2</td>\n",
       "      <td>150</td>\n",
       "      <td>232</td>\n",
       "      <td>0</td>\n",
       "      <td>2</td>\n",
       "      <td>165</td>\n",
       "      <td>0</td>\n",
       "      <td>1.6</td>\n",
       "      <td>0</td>\n",
       "      <td>0</td>\n",
       "      <td>2</td>\n",
       "      <td>0</td>\n",
       "    </tr>\n",
       "    <tr>\n",
       "      <th>112</th>\n",
       "      <td>54</td>\n",
       "      <td>0</td>\n",
       "      <td>2</td>\n",
       "      <td>108</td>\n",
       "      <td>267</td>\n",
       "      <td>0</td>\n",
       "      <td>2</td>\n",
       "      <td>167</td>\n",
       "      <td>0</td>\n",
       "      <td>0.0</td>\n",
       "      <td>0</td>\n",
       "      <td>0</td>\n",
       "      <td>0</td>\n",
       "      <td>0</td>\n",
       "    </tr>\n",
       "    <tr>\n",
       "      <th>113</th>\n",
       "      <td>54</td>\n",
       "      <td>0</td>\n",
       "      <td>2</td>\n",
       "      <td>160</td>\n",
       "      <td>201</td>\n",
       "      <td>0</td>\n",
       "      <td>0</td>\n",
       "      <td>163</td>\n",
       "      <td>0</td>\n",
       "      <td>0.0</td>\n",
       "      <td>0</td>\n",
       "      <td>1</td>\n",
       "      <td>0</td>\n",
       "      <td>0</td>\n",
       "    </tr>\n",
       "    <tr>\n",
       "      <th>114</th>\n",
       "      <td>53</td>\n",
       "      <td>1</td>\n",
       "      <td>2</td>\n",
       "      <td>130</td>\n",
       "      <td>197</td>\n",
       "      <td>1</td>\n",
       "      <td>2</td>\n",
       "      <td>152</td>\n",
       "      <td>0</td>\n",
       "      <td>1.2</td>\n",
       "      <td>2</td>\n",
       "      <td>0</td>\n",
       "      <td>0</td>\n",
       "      <td>0</td>\n",
       "    </tr>\n",
       "  </tbody>\n",
       "</table>\n",
       "<p>115 rows × 14 columns</p>\n",
       "</div>"
      ],
      "text/plain": [
       "     age  sex  cp  trestbps  chol  fbs  restecg  thalach  exang  oldpeak  \\\n",
       "0     69    1   0       160   234    1        2      131      0      0.1   \n",
       "1     69    0   0       140   239    0        0      151      0      1.8   \n",
       "2     66    0   0       150   226    0        0      114      0      2.6   \n",
       "3     65    1   0       138   282    1        2      174      0      1.4   \n",
       "4     64    1   0       110   211    0        2      144      1      1.8   \n",
       "..   ...  ...  ..       ...   ...  ...      ...      ...    ...      ...   \n",
       "110   54    0   2       135   304    1        0      170      0      0.0   \n",
       "111   54    1   2       150   232    0        2      165      0      1.6   \n",
       "112   54    0   2       108   267    0        2      167      0      0.0   \n",
       "113   54    0   2       160   201    0        0      163      0      0.0   \n",
       "114   53    1   2       130   197    1        2      152      0      1.2   \n",
       "\n",
       "     slope  ca  thal  condition  \n",
       "0        1   1     0          0  \n",
       "1        0   2     0          0  \n",
       "2        2   0     0          0  \n",
       "3        1   1     0          1  \n",
       "4        1   0     0          0  \n",
       "..     ...  ..   ...        ...  \n",
       "110      0   0     0          0  \n",
       "111      0   0     2          0  \n",
       "112      0   0     0          0  \n",
       "113      0   1     0          0  \n",
       "114      2   0     0          0  \n",
       "\n",
       "[115 rows x 14 columns]"
      ]
     },
     "execution_count": 17,
     "metadata": {},
     "output_type": "execute_result"
    }
   ],
   "source": [
    "# Realizamos lectura de los Datos para el análisis exploratorio\n",
    "\n",
    "Data.head(115)"
   ]
  },
  {
   "cell_type": "code",
   "execution_count": 7,
   "id": "a2a06dfa-b766-427e-9bbd-38b505466c3d",
   "metadata": {},
   "outputs": [
    {
     "data": {
      "text/html": [
       "<div>\n",
       "<style scoped>\n",
       "    .dataframe tbody tr th:only-of-type {\n",
       "        vertical-align: middle;\n",
       "    }\n",
       "\n",
       "    .dataframe tbody tr th {\n",
       "        vertical-align: top;\n",
       "    }\n",
       "\n",
       "    .dataframe thead th {\n",
       "        text-align: right;\n",
       "    }\n",
       "</style>\n",
       "<table border=\"1\" class=\"dataframe\">\n",
       "  <thead>\n",
       "    <tr style=\"text-align: right;\">\n",
       "      <th></th>\n",
       "      <th>age</th>\n",
       "      <th>sex</th>\n",
       "      <th>cp</th>\n",
       "      <th>trestbps</th>\n",
       "      <th>chol</th>\n",
       "      <th>fbs</th>\n",
       "      <th>restecg</th>\n",
       "      <th>thalach</th>\n",
       "      <th>exang</th>\n",
       "      <th>oldpeak</th>\n",
       "      <th>slope</th>\n",
       "      <th>ca</th>\n",
       "      <th>thal</th>\n",
       "      <th>condition</th>\n",
       "    </tr>\n",
       "  </thead>\n",
       "  <tbody>\n",
       "    <tr>\n",
       "      <th>count</th>\n",
       "      <td>297.000000</td>\n",
       "      <td>297.000000</td>\n",
       "      <td>297.000000</td>\n",
       "      <td>297.000000</td>\n",
       "      <td>297.000000</td>\n",
       "      <td>297.000000</td>\n",
       "      <td>297.000000</td>\n",
       "      <td>297.000000</td>\n",
       "      <td>297.000000</td>\n",
       "      <td>297.000000</td>\n",
       "      <td>297.000000</td>\n",
       "      <td>297.000000</td>\n",
       "      <td>297.000000</td>\n",
       "      <td>297.000000</td>\n",
       "    </tr>\n",
       "    <tr>\n",
       "      <th>mean</th>\n",
       "      <td>54.542088</td>\n",
       "      <td>0.676768</td>\n",
       "      <td>2.158249</td>\n",
       "      <td>131.693603</td>\n",
       "      <td>247.350168</td>\n",
       "      <td>0.144781</td>\n",
       "      <td>0.996633</td>\n",
       "      <td>149.599327</td>\n",
       "      <td>0.326599</td>\n",
       "      <td>1.055556</td>\n",
       "      <td>0.602694</td>\n",
       "      <td>0.676768</td>\n",
       "      <td>0.835017</td>\n",
       "      <td>0.461279</td>\n",
       "    </tr>\n",
       "    <tr>\n",
       "      <th>std</th>\n",
       "      <td>9.049736</td>\n",
       "      <td>0.468500</td>\n",
       "      <td>0.964859</td>\n",
       "      <td>17.762806</td>\n",
       "      <td>51.997583</td>\n",
       "      <td>0.352474</td>\n",
       "      <td>0.994914</td>\n",
       "      <td>22.941562</td>\n",
       "      <td>0.469761</td>\n",
       "      <td>1.166123</td>\n",
       "      <td>0.618187</td>\n",
       "      <td>0.938965</td>\n",
       "      <td>0.956690</td>\n",
       "      <td>0.499340</td>\n",
       "    </tr>\n",
       "    <tr>\n",
       "      <th>min</th>\n",
       "      <td>29.000000</td>\n",
       "      <td>0.000000</td>\n",
       "      <td>0.000000</td>\n",
       "      <td>94.000000</td>\n",
       "      <td>126.000000</td>\n",
       "      <td>0.000000</td>\n",
       "      <td>0.000000</td>\n",
       "      <td>71.000000</td>\n",
       "      <td>0.000000</td>\n",
       "      <td>0.000000</td>\n",
       "      <td>0.000000</td>\n",
       "      <td>0.000000</td>\n",
       "      <td>0.000000</td>\n",
       "      <td>0.000000</td>\n",
       "    </tr>\n",
       "    <tr>\n",
       "      <th>25%</th>\n",
       "      <td>48.000000</td>\n",
       "      <td>0.000000</td>\n",
       "      <td>2.000000</td>\n",
       "      <td>120.000000</td>\n",
       "      <td>211.000000</td>\n",
       "      <td>0.000000</td>\n",
       "      <td>0.000000</td>\n",
       "      <td>133.000000</td>\n",
       "      <td>0.000000</td>\n",
       "      <td>0.000000</td>\n",
       "      <td>0.000000</td>\n",
       "      <td>0.000000</td>\n",
       "      <td>0.000000</td>\n",
       "      <td>0.000000</td>\n",
       "    </tr>\n",
       "    <tr>\n",
       "      <th>50%</th>\n",
       "      <td>56.000000</td>\n",
       "      <td>1.000000</td>\n",
       "      <td>2.000000</td>\n",
       "      <td>130.000000</td>\n",
       "      <td>243.000000</td>\n",
       "      <td>0.000000</td>\n",
       "      <td>1.000000</td>\n",
       "      <td>153.000000</td>\n",
       "      <td>0.000000</td>\n",
       "      <td>0.800000</td>\n",
       "      <td>1.000000</td>\n",
       "      <td>0.000000</td>\n",
       "      <td>0.000000</td>\n",
       "      <td>0.000000</td>\n",
       "    </tr>\n",
       "    <tr>\n",
       "      <th>75%</th>\n",
       "      <td>61.000000</td>\n",
       "      <td>1.000000</td>\n",
       "      <td>3.000000</td>\n",
       "      <td>140.000000</td>\n",
       "      <td>276.000000</td>\n",
       "      <td>0.000000</td>\n",
       "      <td>2.000000</td>\n",
       "      <td>166.000000</td>\n",
       "      <td>1.000000</td>\n",
       "      <td>1.600000</td>\n",
       "      <td>1.000000</td>\n",
       "      <td>1.000000</td>\n",
       "      <td>2.000000</td>\n",
       "      <td>1.000000</td>\n",
       "    </tr>\n",
       "    <tr>\n",
       "      <th>max</th>\n",
       "      <td>77.000000</td>\n",
       "      <td>1.000000</td>\n",
       "      <td>3.000000</td>\n",
       "      <td>200.000000</td>\n",
       "      <td>564.000000</td>\n",
       "      <td>1.000000</td>\n",
       "      <td>2.000000</td>\n",
       "      <td>202.000000</td>\n",
       "      <td>1.000000</td>\n",
       "      <td>6.200000</td>\n",
       "      <td>2.000000</td>\n",
       "      <td>3.000000</td>\n",
       "      <td>2.000000</td>\n",
       "      <td>1.000000</td>\n",
       "    </tr>\n",
       "  </tbody>\n",
       "</table>\n",
       "</div>"
      ],
      "text/plain": [
       "              age         sex          cp    trestbps        chol         fbs  \\\n",
       "count  297.000000  297.000000  297.000000  297.000000  297.000000  297.000000   \n",
       "mean    54.542088    0.676768    2.158249  131.693603  247.350168    0.144781   \n",
       "std      9.049736    0.468500    0.964859   17.762806   51.997583    0.352474   \n",
       "min     29.000000    0.000000    0.000000   94.000000  126.000000    0.000000   \n",
       "25%     48.000000    0.000000    2.000000  120.000000  211.000000    0.000000   \n",
       "50%     56.000000    1.000000    2.000000  130.000000  243.000000    0.000000   \n",
       "75%     61.000000    1.000000    3.000000  140.000000  276.000000    0.000000   \n",
       "max     77.000000    1.000000    3.000000  200.000000  564.000000    1.000000   \n",
       "\n",
       "          restecg     thalach       exang     oldpeak       slope          ca  \\\n",
       "count  297.000000  297.000000  297.000000  297.000000  297.000000  297.000000   \n",
       "mean     0.996633  149.599327    0.326599    1.055556    0.602694    0.676768   \n",
       "std      0.994914   22.941562    0.469761    1.166123    0.618187    0.938965   \n",
       "min      0.000000   71.000000    0.000000    0.000000    0.000000    0.000000   \n",
       "25%      0.000000  133.000000    0.000000    0.000000    0.000000    0.000000   \n",
       "50%      1.000000  153.000000    0.000000    0.800000    1.000000    0.000000   \n",
       "75%      2.000000  166.000000    1.000000    1.600000    1.000000    1.000000   \n",
       "max      2.000000  202.000000    1.000000    6.200000    2.000000    3.000000   \n",
       "\n",
       "             thal   condition  \n",
       "count  297.000000  297.000000  \n",
       "mean     0.835017    0.461279  \n",
       "std      0.956690    0.499340  \n",
       "min      0.000000    0.000000  \n",
       "25%      0.000000    0.000000  \n",
       "50%      0.000000    0.000000  \n",
       "75%      2.000000    1.000000  \n",
       "max      2.000000    1.000000  "
      ]
     },
     "execution_count": 7,
     "metadata": {},
     "output_type": "execute_result"
    }
   ],
   "source": [
    "# Descripción de los datos\n",
    "Data.describe()"
   ]
  },
  {
   "cell_type": "code",
   "execution_count": 8,
   "id": "9dbfd937-4ef0-469d-bdd4-470876c288b8",
   "metadata": {},
   "outputs": [
    {
     "data": {
      "text/plain": [
       "Text(0.5, 1.0, 'Identificación de Datos Faltantes y Atípicos')"
      ]
     },
     "execution_count": 8,
     "metadata": {},
     "output_type": "execute_result"
    },
    {
     "data": {
      "image/png": "[encoded data removed]",
      "text/plain": [
       "<Figure size 800x500 with 1 Axes>"
      ]
     },
     "metadata": {},
     "output_type": "display_data"
    }
   ],
   "source": [
    "#Identificación de Datos Faltantes y Atípicos\n",
    "\n",
    "plt.figure(figsize=(8, 5))\n",
    "sns.boxplot(x=Data['age'])\n",
    "plt.title('Identificación de Datos Faltantes y Atípicos', fontsize=10 )"
   ]
  },
  {
   "cell_type": "code",
   "execution_count": 9,
   "id": "917ca442-ac46-48d8-bf5d-170e62ef8075",
   "metadata": {},
   "outputs": [
    {
     "data": {
      "text/plain": [
       "Text(0.5, 1.0, 'Identificación de Datos Faltantes y Atípicos')"
      ]
     },
     "execution_count": 9,
     "metadata": {},
     "output_type": "execute_result"
    },
    {
     "data": {
      "image/png": "[encoded data removed]",
      "text/plain": [
       "<Figure size 500x300 with 1 Axes>"
      ]
     },
     "metadata": {},
     "output_type": "display_data"
    }
   ],
   "source": [
    "#Identificación de Datos Faltantes y Atípicos 2\n",
    "\n",
    "plt.figure(figsize=(5, 3))\n",
    "sns.boxplot(x=Data['condition'])\n",
    "plt.title('Identificación de Datos Faltantes y Atípicos', fontsize=10 )"
   ]
  },
  {
   "cell_type": "code",
   "execution_count": 10,
   "id": "85908536-ad75-4aa7-b436-a4b45af52396",
   "metadata": {},
   "outputs": [
    {
     "data": {
      "text/plain": [
       "Text(0.5, 1.0, 'Identificación de Datos Faltantes y Atípicos')"
      ]
     },
     "execution_count": 10,
     "metadata": {},
     "output_type": "execute_result"
    },
    {
     "data": {
      "image/png": "[encoded data removed]",
      "text/plain": [
       "<Figure size 600x400 with 1 Axes>"
      ]
     },
     "metadata": {},
     "output_type": "display_data"
    }
   ],
   "source": [
    "#Identificación de Datos Faltantes y Atípicos 2\n",
    "\n",
    "plt.figure(figsize=(6, 4))\n",
    "sns.boxplot(x=Data['sex'])\n",
    "plt.title('Identificación de Datos Faltantes y Atípicos', fontsize=10 )"
   ]
  },
  {
   "cell_type": "code",
   "execution_count": 11,
   "id": "26ac5dfe-f56f-4052-9d60-ec582dcf65cb",
   "metadata": {},
   "outputs": [
    {
     "data": {
      "text/plain": [
       "Text(0.5, 1.0, 'Identificación de Datos Faltantes y Atípicos')"
      ]
     },
     "execution_count": 11,
     "metadata": {},
     "output_type": "execute_result"
    },
    {
     "data": {
      "image/png": "[encoded data removed]",
      "text/plain": [
       "<Figure size 400x400 with 1 Axes>"
      ]
     },
     "metadata": {},
     "output_type": "display_data"
    }
   ],
   "source": [
    "#Identificación de Datos Faltantes y Atípicos 2\n",
    "\n",
    "plt.figure(figsize=(4, 4))\n",
    "sns.boxplot(x=Data['oldpeak'])\n",
    "plt.title('Identificación de Datos Faltantes y Atípicos', fontsize=10 )"
   ]
  },
  {
   "cell_type": "code",
   "execution_count": 24,
   "id": "ad87fa6d-d9e8-4c1d-baf8-d4ab115f915f",
   "metadata": {},
   "outputs": [
    {
     "name": "stdout",
     "output_type": "stream",
     "text": [
      "2. Preprocesar los datos limpiándolos, tratando valores faltantes y transformándolos según sea necesario.\n"
     ]
    }
   ],
   "source": [
    "print(\"2. Preprocesar los datos limpiándolos, tratando valores faltantes y transformándolos según sea necesario.\")"
   ]
  },
  {
   "cell_type": "code",
   "execution_count": 12,
   "id": "0489e0f6-5d71-4957-839a-d2aae4be9c34",
   "metadata": {},
   "outputs": [
    {
     "name": "stdout",
     "output_type": "stream",
     "text": [
      "Cantidad de Registros de pacientes con cero en el campo sexo:  96\n",
      "Cantidad de Registros de pacientes con cero en el campo cp:  23\n",
      "Cantidad de Registros de pacientes con cero en el campo fbs:  254\n",
      "Cantidad de Registros de pacientes con cero en el campo restecg:  147\n",
      "Cantidad de Registros de pacientes con cero en el campo exang:  200\n",
      "Cantidad de Registros de pacientes con cero en el campo oldpeak:  96\n",
      "Cantidad de Registros de pacientes con cero en el campo slope:  139\n",
      "Cantidad de Registros de pacientes con cero en el campo ca:  174\n",
      "Cantidad de Registros de pacientes con cero en el campo thal:  164\n"
     ]
    }
   ],
   "source": [
    "#Revisión de datos faltantes\n",
    "\n",
    "print(\"Cantidad de Registros de pacientes con cero en el campo sexo: \",Data['sex'].isin([0]).sum())\n",
    "print(\"Cantidad de Registros de pacientes con cero en el campo cp: \",Data['cp'].isin([0]).sum())\n",
    "print(\"Cantidad de Registros de pacientes con cero en el campo fbs: \",Data['fbs'].isin([0]).sum())\n",
    "print(\"Cantidad de Registros de pacientes con cero en el campo restecg: \",Data['restecg'].isin([0]).sum())\n",
    "print(\"Cantidad de Registros de pacientes con cero en el campo exang: \",Data['exang'].isin([0]).sum())\n",
    "print(\"Cantidad de Registros de pacientes con cero en el campo oldpeak: \",Data['oldpeak'].isin([0]).sum())\n",
    "print(\"Cantidad de Registros de pacientes con cero en el campo slope: \",Data['slope'].isin([0]).sum())\n",
    "print(\"Cantidad de Registros de pacientes con cero en el campo ca: \",Data['ca'].isin([0]).sum())\n",
    "print(\"Cantidad de Registros de pacientes con cero en el campo thal: \",Data['thal'].isin([0]).sum())\n"
   ]
  },
  {
   "cell_type": "code",
   "execution_count": 13,
   "id": "200d59cf-d182-4bd4-acc1-c8f338c2276a",
   "metadata": {},
   "outputs": [],
   "source": [
    "# Reemplazar todos los ceros con el valor medio (promedio) de la columna.\n",
    "\n",
    "Data['sex']=Data['sex'].replace(0,Data['sex'].mean())\n",
    "Data['cp']=Data['cp'].replace(0,Data['cp'].mean())\n",
    "Data['fbs']=Data['fbs'].replace(0,Data['fbs'].mean())\n",
    "Data['restecg']=Data['restecg'].replace(0,Data['restecg'].mean())\n",
    "Data['exang']=Data['exang'].replace(0,Data['exang'].mean())\n",
    "Data['oldpeak']=Data['oldpeak'].replace(0,Data['oldpeak'].mean())\n",
    "Data['slope']=Data['slope'].replace(0,Data['slope'].mean())\n",
    "Data['ca']=Data['ca'].replace(0,Data['ca'].mean())\n",
    "Data['thal']=Data['thal'].replace(0,Data['thal'].mean())\n",
    "#Data['condition']=Data['condition'].replace(0,Data['condition'].mean())\n"
   ]
  },
  {
   "cell_type": "code",
   "execution_count": 36,
   "id": "395f36ce-fe5c-43f0-8910-8031d11ab126",
   "metadata": {},
   "outputs": [
    {
     "name": "stdout",
     "output_type": "stream",
     "text": [
      "Cantidad de Registros de pacientes con cero en el campo sexo:  0\n",
      "Cantidad de Registros de pacientes con cero en el campo cp:  0\n",
      "Cantidad de Registros de pacientes con cero en el campo fbs:  0\n",
      "Cantidad de Registros de pacientes con cero en el campo restecg:  0\n",
      "Cantidad de Registros de pacientes con cero en el campo exang:  0\n",
      "Cantidad de Registros de pacientes con cero en el campo oldpeak:  0\n",
      "Cantidad de Registros de pacientes con cero en el campo slope:  0\n",
      "Cantidad de Registros de pacientes con cero en el campo ca:  0\n",
      "Cantidad de Registros de pacientes con cero en el campo thal:  0\n",
      "Cantidad de Registros de pacientes con cero en el campo condition:  0\n"
     ]
    }
   ],
   "source": [
    "#Revisión nuevamente de datos faltantes\n",
    "print(\"Cantidad de Registros de pacientes con cero en el campo sexo: \",Data['sex'].isin([0]).sum())\n",
    "print(\"Cantidad de Registros de pacientes con cero en el campo cp: \",Data['cp'].isin([0]).sum())\n",
    "print(\"Cantidad de Registros de pacientes con cero en el campo fbs: \",Data['fbs'].isin([0]).sum())\n",
    "print(\"Cantidad de Registros de pacientes con cero en el campo restecg: \",Data['restecg'].isin([0]).sum())\n",
    "print(\"Cantidad de Registros de pacientes con cero en el campo exang: \",Data['exang'].isin([0]).sum())\n",
    "print(\"Cantidad de Registros de pacientes con cero en el campo oldpeak: \",Data['oldpeak'].isin([0]).sum())\n",
    "print(\"Cantidad de Registros de pacientes con cero en el campo slope: \",Data['slope'].isin([0]).sum())\n",
    "print(\"Cantidad de Registros de pacientes con cero en el campo ca: \",Data['ca'].isin([0]).sum())\n",
    "print(\"Cantidad de Registros de pacientes con cero en el campo thal: \",Data['thal'].isin([0]).sum())\n",
    "#print(\"Cantidad de Registros de pacientes con cero en el campo condition: \",Data['condition'].isin([0]).sum())\n"
   ]
  },
  {
   "cell_type": "code",
   "execution_count": 14,
   "id": "18a1a739-067b-4782-a188-82ecdf5f110d",
   "metadata": {},
   "outputs": [
    {
     "data": {
      "text/plain": [
       "Text(0.5, 1.0, 'Identificación de Datos Atípicos')"
      ]
     },
     "execution_count": 14,
     "metadata": {},
     "output_type": "execute_result"
    },
    {
     "data": {
      "image/png": "[encoded data removed]",
      "text/plain": [
       "<Figure size 600x300 with 1 Axes>"
      ]
     },
     "metadata": {},
     "output_type": "display_data"
    }
   ],
   "source": [
    "#Identificación de Datos Atípicos\n",
    "\n",
    "plt.figure(figsize=(6, 3))\n",
    "sns.boxplot(x=Data['chol'])\n",
    "plt.title('Identificación de Datos Atípicos', fontsize=10 )"
   ]
  },
  {
   "cell_type": "code",
   "execution_count": 15,
   "id": "aa3ebd85-2d1d-4be4-a30c-1aed4fef5294",
   "metadata": {},
   "outputs": [
    {
     "name": "stdout",
     "output_type": "stream",
     "text": [
      "El total de datos atípicos es 52\n"
     ]
    }
   ],
   "source": [
    "#Conteo de Datos Atípicos\n",
    "\n",
    "nivel_minimo=200\n",
    "nivel_maximo=400\n",
    "Total_Atipicos=((Data['chol']<nivel_minimo)|(Data['chol']>nivel_maximo)).sum()\n",
    "print(\"El total de datos atípicos es {}\".format(Total_Atipicos))"
   ]
  },
  {
   "cell_type": "code",
   "execution_count": 16,
   "id": "bd97b315-fa64-41ab-8ce7-23b2537e240c",
   "metadata": {},
   "outputs": [],
   "source": [
    "# Filtra Datos Atípicos\n",
    "\n",
    "Data=Data[(Data['chol']<nivel_maximo)&(Data['chol']>nivel_minimo)]"
   ]
  },
  {
   "cell_type": "code",
   "execution_count": 17,
   "id": "8992dff3-0cc4-49ae-adc9-683aa41a22e8",
   "metadata": {},
   "outputs": [
    {
     "name": "stdout",
     "output_type": "stream",
     "text": [
      "El total de datos atípicos es 0\n"
     ]
    }
   ],
   "source": [
    "# Validar si se removieron los datos atípicos\n",
    "\n",
    "Total_Atipicos=((Data['chol']<nivel_minimo)|(Data['chol']>nivel_maximo)).sum()\n",
    "print(\"El total de datos atípicos es {}\".format(Total_Atipicos))"
   ]
  },
  {
   "cell_type": "code",
   "execution_count": 45,
   "id": "2460e570-9853-4717-bfba-0d69edea9ccd",
   "metadata": {},
   "outputs": [
    {
     "name": "stdout",
     "output_type": "stream",
     "text": [
      "<class 'pandas.core.frame.DataFrame'>\n",
      "Index: 244 entries, 0 to 296\n",
      "Data columns (total 19 columns):\n",
      " #   Column            Non-Null Count  Dtype  \n",
      "---  ------            --------------  -----  \n",
      " 0   age               244 non-null    int64  \n",
      " 1   sex               244 non-null    float64\n",
      " 2   cp                244 non-null    float64\n",
      " 3   trestbps          244 non-null    int64  \n",
      " 4   chol              244 non-null    int64  \n",
      " 5   fbs               244 non-null    float64\n",
      " 6   restecg           244 non-null    float64\n",
      " 7   thalach           244 non-null    int64  \n",
      " 8   exang             244 non-null    float64\n",
      " 9   oldpeak           244 non-null    float64\n",
      " 10  slope             244 non-null    float64\n",
      " 11  ca                244 non-null    float64\n",
      " 12  thal              244 non-null    float64\n",
      " 13  condition         244 non-null    float64\n",
      " 14  Nivel_Glucosa     244 non-null    float64\n",
      " 15  Presión_Arterial  244 non-null    float64\n",
      " 16  Grosor_Piel       244 non-null    float64\n",
      " 17  Nivel_Insulina    244 non-null    float64\n",
      " 18  IMC               244 non-null    float64\n",
      "dtypes: float64(15), int64(4)\n",
      "memory usage: 46.2 KB\n"
     ]
    }
   ],
   "source": [
    "#Revisión del tipo de datos y datos faltantes\n",
    "\n",
    "Data.info()"
   ]
  },
  {
   "cell_type": "code",
   "execution_count": 46,
   "id": "4a0f8710-063d-41f5-a956-eca8d0496b1d",
   "metadata": {},
   "outputs": [
    {
     "name": "stdout",
     "output_type": "stream",
     "text": [
      "3. Seleccionar las características más relevantes para entrenar el 3 modelo utilizando selección de características.\n"
     ]
    }
   ],
   "source": [
    "print(\"3. Seleccionar las características más relevantes para entrenar el 3 modelo utilizando selección de características.\")"
   ]
  },
  {
   "cell_type": "code",
   "execution_count": 18,
   "id": "c0d01309-2d9a-4323-a8eb-16350b679e0d",
   "metadata": {},
   "outputs": [
    {
     "data": {
      "text/plain": [
       "condition\n",
       "0    130\n",
       "1    114\n",
       "Name: count, dtype: int64"
      ]
     },
     "execution_count": 18,
     "metadata": {},
     "output_type": "execute_result"
    }
   ],
   "source": [
    "# Total de personas con enfermedad cardiaca \n",
    "#Característica de interes:\n",
    "\n",
    "#Diabetico: si la persona tiene diabetes o no (0 = no tiene ataque cardiaco - 1 = si tiene ataque cardiaco)\n",
    "#Predecir si una persona tiene o no ataque cardiaco\n",
    "\n",
    "Data['condition'].value_counts()"
   ]
  },
  {
   "cell_type": "code",
   "execution_count": 50,
   "id": "c29bed0b-6d7d-4209-806b-af074531a0fa",
   "metadata": {},
   "outputs": [
    {
     "data": {
      "text/html": [
       "<div>\n",
       "<style scoped>\n",
       "    .dataframe tbody tr th:only-of-type {\n",
       "        vertical-align: middle;\n",
       "    }\n",
       "\n",
       "    .dataframe tbody tr th {\n",
       "        vertical-align: top;\n",
       "    }\n",
       "\n",
       "    .dataframe thead th {\n",
       "        text-align: right;\n",
       "    }\n",
       "</style>\n",
       "<table border=\"1\" class=\"dataframe\">\n",
       "  <thead>\n",
       "    <tr style=\"text-align: right;\">\n",
       "      <th></th>\n",
       "      <th>condition</th>\n",
       "    </tr>\n",
       "  </thead>\n",
       "  <tbody>\n",
       "    <tr>\n",
       "      <th>0</th>\n",
       "      <td>0.461279</td>\n",
       "    </tr>\n",
       "    <tr>\n",
       "      <th>1</th>\n",
       "      <td>0.461279</td>\n",
       "    </tr>\n",
       "    <tr>\n",
       "      <th>2</th>\n",
       "      <td>0.461279</td>\n",
       "    </tr>\n",
       "    <tr>\n",
       "      <th>3</th>\n",
       "      <td>1.000000</td>\n",
       "    </tr>\n",
       "    <tr>\n",
       "      <th>4</th>\n",
       "      <td>0.461279</td>\n",
       "    </tr>\n",
       "    <tr>\n",
       "      <th>5</th>\n",
       "      <td>0.461279</td>\n",
       "    </tr>\n",
       "    <tr>\n",
       "      <th>6</th>\n",
       "      <td>0.461279</td>\n",
       "    </tr>\n",
       "    <tr>\n",
       "      <th>7</th>\n",
       "      <td>1.000000</td>\n",
       "    </tr>\n",
       "    <tr>\n",
       "      <th>8</th>\n",
       "      <td>0.461279</td>\n",
       "    </tr>\n",
       "    <tr>\n",
       "      <th>9</th>\n",
       "      <td>0.461279</td>\n",
       "    </tr>\n",
       "    <tr>\n",
       "      <th>10</th>\n",
       "      <td>1.000000</td>\n",
       "    </tr>\n",
       "    <tr>\n",
       "      <th>11</th>\n",
       "      <td>1.000000</td>\n",
       "    </tr>\n",
       "    <tr>\n",
       "      <th>12</th>\n",
       "      <td>1.000000</td>\n",
       "    </tr>\n",
       "    <tr>\n",
       "      <th>13</th>\n",
       "      <td>0.461279</td>\n",
       "    </tr>\n",
       "    <tr>\n",
       "      <th>16</th>\n",
       "      <td>0.461279</td>\n",
       "    </tr>\n",
       "    <tr>\n",
       "      <th>17</th>\n",
       "      <td>0.461279</td>\n",
       "    </tr>\n",
       "    <tr>\n",
       "      <th>18</th>\n",
       "      <td>1.000000</td>\n",
       "    </tr>\n",
       "    <tr>\n",
       "      <th>19</th>\n",
       "      <td>0.461279</td>\n",
       "    </tr>\n",
       "    <tr>\n",
       "      <th>21</th>\n",
       "      <td>1.000000</td>\n",
       "    </tr>\n",
       "    <tr>\n",
       "      <th>23</th>\n",
       "      <td>0.461279</td>\n",
       "    </tr>\n",
       "    <tr>\n",
       "      <th>24</th>\n",
       "      <td>0.461279</td>\n",
       "    </tr>\n",
       "    <tr>\n",
       "      <th>25</th>\n",
       "      <td>0.461279</td>\n",
       "    </tr>\n",
       "    <tr>\n",
       "      <th>26</th>\n",
       "      <td>1.000000</td>\n",
       "    </tr>\n",
       "    <tr>\n",
       "      <th>28</th>\n",
       "      <td>1.000000</td>\n",
       "    </tr>\n",
       "    <tr>\n",
       "      <th>29</th>\n",
       "      <td>0.461279</td>\n",
       "    </tr>\n",
       "    <tr>\n",
       "      <th>30</th>\n",
       "      <td>0.461279</td>\n",
       "    </tr>\n",
       "    <tr>\n",
       "      <th>31</th>\n",
       "      <td>1.000000</td>\n",
       "    </tr>\n",
       "    <tr>\n",
       "      <th>32</th>\n",
       "      <td>1.000000</td>\n",
       "    </tr>\n",
       "    <tr>\n",
       "      <th>33</th>\n",
       "      <td>1.000000</td>\n",
       "    </tr>\n",
       "    <tr>\n",
       "      <th>34</th>\n",
       "      <td>1.000000</td>\n",
       "    </tr>\n",
       "  </tbody>\n",
       "</table>\n",
       "</div>"
      ],
      "text/plain": [
       "    condition\n",
       "0    0.461279\n",
       "1    0.461279\n",
       "2    0.461279\n",
       "3    1.000000\n",
       "4    0.461279\n",
       "5    0.461279\n",
       "6    0.461279\n",
       "7    1.000000\n",
       "8    0.461279\n",
       "9    0.461279\n",
       "10   1.000000\n",
       "11   1.000000\n",
       "12   1.000000\n",
       "13   0.461279\n",
       "16   0.461279\n",
       "17   0.461279\n",
       "18   1.000000\n",
       "19   0.461279\n",
       "21   1.000000\n",
       "23   0.461279\n",
       "24   0.461279\n",
       "25   0.461279\n",
       "26   1.000000\n",
       "28   1.000000\n",
       "29   0.461279\n",
       "30   0.461279\n",
       "31   1.000000\n",
       "32   1.000000\n",
       "33   1.000000\n",
       "34   1.000000"
      ]
     },
     "execution_count": 50,
     "metadata": {},
     "output_type": "execute_result"
    }
   ],
   "source": [
    "Data[['condition']].head(30)"
   ]
  },
  {
   "cell_type": "code",
   "execution_count": 51,
   "id": "65ddf5d4-3478-4d73-a1cc-ef5441113485",
   "metadata": {},
   "outputs": [
    {
     "name": "stdout",
     "output_type": "stream",
     "text": [
      "4. Dividir el dataset en Train y Test para evaluar correctamente el modelo.\n"
     ]
    }
   ],
   "source": [
    "print(\"4. Dividir el dataset en Train y Test para evaluar correctamente el modelo.\")\n"
   ]
  },
  {
   "cell_type": "code",
   "execution_count": 19,
   "id": "bc811a4e-5a9e-4a30-94c2-69ccce3039dc",
   "metadata": {},
   "outputs": [],
   "source": [
    "# Porcentaje de datos para entrenamiento (train) = 75% , y para prueba (test) = 25%\n",
    "\n",
    "# Se crean variables X y Y para almacenar la información del entrenamiento\n",
    "\n",
    "X = Data.drop('condition',axis=1) # Se cargan los datos de train sin los datos de la columna condicion  \n",
    "Y = Data['condition'] # Se cargan los datos de train con los datos de la la columna condicion\n",
    "\n",
    "#La función train_test_split crea una división de un conjunto de datos en dos bloques uno de entrenamiento y otro de prueba (train and test)\n",
    "X_train, X_test, Y_train, Y_test = train_test_split(X, Y, test_size=0.25, stratify=Y, random_state= 0)"
   ]
  },
  {
   "cell_type": "code",
   "execution_count": 53,
   "id": "c7223bff-e347-4618-935d-ca22d0a7dabf",
   "metadata": {},
   "outputs": [
    {
     "name": "stdout",
     "output_type": "stream",
     "text": [
      "     age       sex        cp  trestbps  chol       fbs   restecg  thalach  \\\n",
      "5     64  1.000000  2.158249       170   227  0.144781  2.000000      155   \n",
      "274   46  1.000000  3.000000       120   249  0.144781  2.000000      144   \n",
      "48    52  1.000000  1.000000       128   205  1.000000  0.996633      184   \n",
      "42    55  0.676768  1.000000       132   342  0.144781  0.996633      166   \n",
      "149   41  0.676768  2.000000       112   268  0.144781  2.000000      172   \n",
      "..   ...       ...       ...       ...   ...       ...       ...      ...   \n",
      "26    66  1.000000  1.000000       160   246  0.144781  0.996633      120   \n",
      "154   37  0.676768  2.000000       120   215  0.144781  0.996633      170   \n",
      "71    29  1.000000  1.000000       130   204  0.144781  2.000000      202   \n",
      "61    44  1.000000  1.000000       120   220  0.144781  0.996633      170   \n",
      "30    59  1.000000  1.000000       140   221  0.144781  0.996633      164   \n",
      "\n",
      "        exang   oldpeak     slope        ca      thal  Nivel_Glucosa  \\\n",
      "5    0.326599  0.600000  1.000000  0.676768  2.000000       0.461279   \n",
      "274  0.326599  0.800000  0.602694  0.676768  2.000000       1.000000   \n",
      "48   0.326599  1.055556  0.602694  0.676768  0.835017       0.461279   \n",
      "42   0.326599  1.200000  0.602694  0.676768  0.835017       0.461279   \n",
      "149  1.000000  1.055556  0.602694  0.676768  0.835017       0.461279   \n",
      "..        ...       ...       ...       ...       ...            ...   \n",
      "26   1.000000  1.055556  1.000000  3.000000  1.000000       1.000000   \n",
      "154  0.326599  1.055556  0.602694  0.676768  0.835017       0.461279   \n",
      "71   0.326599  1.055556  0.602694  0.676768  0.835017       0.461279   \n",
      "61   0.326599  1.055556  0.602694  0.676768  0.835017       0.461279   \n",
      "30   1.000000  1.055556  0.602694  0.676768  0.835017       0.461279   \n",
      "\n",
      "     Presión_Arterial  Grosor_Piel  Nivel_Insulina       IMC  \n",
      "5            0.144781     0.326599        2.000000  2.158249  \n",
      "274          0.144781     0.326599        2.000000  3.000000  \n",
      "48           1.000000     0.326599        0.996633  1.000000  \n",
      "42           0.144781     0.326599        0.996633  1.000000  \n",
      "149          0.144781     1.000000        2.000000  2.000000  \n",
      "..                ...          ...             ...       ...  \n",
      "26           0.144781     1.000000        0.996633  1.000000  \n",
      "154          0.144781     0.326599        0.996633  2.000000  \n",
      "71           0.144781     0.326599        2.000000  1.000000  \n",
      "61           0.144781     0.326599        0.996633  1.000000  \n",
      "30           0.144781     1.000000        0.996633  1.000000  \n",
      "\n",
      "[183 rows x 18 columns]\n"
     ]
    }
   ],
   "source": [
    "print (X_train)"
   ]
  },
  {
   "cell_type": "code",
   "execution_count": 54,
   "id": "36316b53-af6e-4c4e-ae3c-47cdefeae8da",
   "metadata": {},
   "outputs": [
    {
     "name": "stdout",
     "output_type": "stream",
     "text": [
      "5      0.461279\n",
      "274    1.000000\n",
      "48     0.461279\n",
      "42     0.461279\n",
      "149    0.461279\n",
      "         ...   \n",
      "26     1.000000\n",
      "154    0.461279\n",
      "71     0.461279\n",
      "61     0.461279\n",
      "30     0.461279\n",
      "Name: condition, Length: 183, dtype: float64\n"
     ]
    }
   ],
   "source": [
    "print (Y_train)"
   ]
  },
  {
   "cell_type": "code",
   "execution_count": 55,
   "id": "0b8d7e8d-aaba-455a-bd60-e73e38b768b0",
   "metadata": {},
   "outputs": [
    {
     "name": "stdout",
     "output_type": "stream",
     "text": [
      "5. Entrenar el modelo configurando los diferentes hiperparámetros\n"
     ]
    }
   ],
   "source": [
    "print(\"5. Entrenar el modelo configurando los diferentes hiperparámetros\")"
   ]
  },
  {
   "cell_type": "code",
   "execution_count": 21,
   "id": "d019280f-73f3-4556-9aab-428570a9b599",
   "metadata": {},
   "outputs": [],
   "source": [
    "# Construir el modelo de regresión logística \n",
    "\n",
    "modelo_regresion = LogisticRegression(solver = \"liblinear\")\n",
    "modelo_regresion.fit (X_train , Y_train)   \n",
    "\n",
    "# Crea el modelo de prediccion\n",
    "Prediccion = modelo_regresion.predict(X_test)"
   ]
  },
  {
   "cell_type": "code",
   "execution_count": 22,
   "id": "fe9645d2-0247-43d1-a55c-9f9388e89dbe",
   "metadata": {},
   "outputs": [
    {
     "name": "stdout",
     "output_type": "stream",
     "text": [
      "110    0\n",
      "206    1\n",
      "188    0\n",
      "167    1\n",
      "195    1\n",
      "      ..\n",
      "181    1\n",
      "254    0\n",
      "234    1\n",
      "235    1\n",
      "260    1\n",
      "Name: condition, Length: 61, dtype: int64\n"
     ]
    }
   ],
   "source": [
    "print (Y_test)"
   ]
  },
  {
   "cell_type": "code",
   "execution_count": 23,
   "id": "1a8d88b9-ec23-49e8-a8b4-df1bb66d6dd7",
   "metadata": {},
   "outputs": [
    {
     "name": "stdout",
     "output_type": "stream",
     "text": [
      "[0 1 0 1 0 0 0 0 1 0 0 0 0 0 0 1 1 0 0 0 0 0 1 1 0 0 0 0 0 1 1 0 1 1 0 0 0\n",
      " 0 0 0 0 0 1 1 0 1 1 0 1 1 0 1 0 0 1 0 0 1 1 1 1]\n"
     ]
    }
   ],
   "source": [
    "print (Prediccion)"
   ]
  },
  {
   "cell_type": "code",
   "execution_count": 25,
   "id": "545b20bd-f628-4d7d-9491-0002b6af8365",
   "metadata": {},
   "outputs": [
    {
     "name": "stdout",
     "output_type": "stream",
     "text": [
      " 6. Evaluar el desempeño del modelo en el conjunto de Test con métricas como precisión, recall, F1-score, etc\n"
     ]
    }
   ],
   "source": [
    "print(\" 6. Evaluar el desempeño del modelo en el conjunto de Test con métricas como precisión, recall, F1-score, etc\")"
   ]
  },
  {
   "cell_type": "code",
   "execution_count": 26,
   "id": "2e73c904-bfca-4833-ae04-cfd151bf3a21",
   "metadata": {},
   "outputs": [
    {
     "name": "stdout",
     "output_type": "stream",
     "text": [
      "              precision    recall  f1-score   support\n",
      "\n",
      "           0       0.74      0.85      0.79        33\n",
      "           1       0.78      0.64      0.71        28\n",
      "\n",
      "    accuracy                           0.75        61\n",
      "   macro avg       0.76      0.75      0.75        61\n",
      "weighted avg       0.76      0.75      0.75        61\n",
      "\n"
     ]
    }
   ],
   "source": [
    "# Desempeño del modelo de regresión\n",
    "\n",
    "print(classification_report(Y_test,Prediccion))"
   ]
  },
  {
   "cell_type": "code",
   "execution_count": 27,
   "id": "33b14e6b-f6bc-4a12-99f2-333787742b4d",
   "metadata": {},
   "outputs": [
    {
     "name": "stdout",
     "output_type": "stream",
     "text": [
      " 7 Realizar las diferentes gráficas que permitan visualizar losresultados del modelo.\n"
     ]
    }
   ],
   "source": [
    "print(\" 7 Realizar las diferentes gráficas que permitan visualizar losresultados del modelo.\")"
   ]
  },
  {
   "cell_type": "code",
   "execution_count": 28,
   "id": "5b343eac-44d4-4fc5-8a04-bf67eebab2ff",
   "metadata": {},
   "outputs": [
    {
     "data": {
      "text/plain": [
       "<sklearn.metrics._plot.confusion_matrix.ConfusionMatrixDisplay at 0x2575cd19b10>"
      ]
     },
     "execution_count": 28,
     "metadata": {},
     "output_type": "execute_result"
    },
    {
     "data": {
      "image/png": "[encoded data removed]",
      "text/plain": [
       "<Figure size 640x480 with 2 Axes>"
      ]
     },
     "metadata": {},
     "output_type": "display_data"
    }
   ],
   "source": [
    "#Matrix de Confusión del modelo\n",
    "\n",
    "cm=confusion_matrix(Y_test,Prediccion)\n",
    "disp=metrics.ConfusionMatrixDisplay(confusion_matrix=cm)\n",
    "disp.plot()"
   ]
  },
  {
   "cell_type": "code",
   "execution_count": 29,
   "id": "daa09cee-c9f2-4f7b-a529-4ad7c333e364",
   "metadata": {},
   "outputs": [
    {
     "data": {
      "image/png": "[encoded data removed]",
      "text/plain": [
       "<Figure size 640x480 with 1 Axes>"
      ]
     },
     "metadata": {},
     "output_type": "display_data"
    }
   ],
   "source": [
    "# Curva de precisón del modelo\n",
    "\n",
    "from sklearn.metrics import RocCurveDisplay\n",
    "RocCurveDisplay.from_predictions(Y_test, Prediccion)\n",
    "plt.show()"
   ]
  },
  {
   "cell_type": "code",
   "execution_count": null,
   "id": "2447c785-91dd-40b5-a244-a13087bf07e2",
   "metadata": {},
   "outputs": [],
   "source": []
  }
 ],
 "metadata": {
  "kernelspec": {
   "display_name": "Python 3 (ipykernel)",
   "language": "python",
   "name": "python3"
  },
  "language_info": {
   "codemirror_mode": {
    "name": "ipython",
    "version": 3
   },
   "file_extension": ".py",
   "mimetype": "text/x-python",
   "name": "python",
   "nbconvert_exporter": "python",
   "pygments_lexer": "ipython3",
   "version": "3.11.7"
  }
 },
 "nbformat": 4,
 "nbformat_minor": 5
}
